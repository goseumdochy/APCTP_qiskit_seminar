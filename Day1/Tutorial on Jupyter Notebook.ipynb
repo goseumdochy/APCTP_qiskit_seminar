{
 "cells": [
  {
   "cell_type": "markdown",
   "id": "6edb5938",
   "metadata": {},
   "source": [
    "# Tutorial on Jupyter Notebook"
   ]
  },
  {
   "cell_type": "markdown",
   "id": "a2f4eb0d",
   "metadata": {},
   "source": [
    "## For the summary keyboard shortcuts, use `Help` $\\rightarrow$ `Keyboard shorcuts`"
   ]
  },
  {
   "cell_type": "markdown",
   "id": "d0ddd86f",
   "metadata": {},
   "source": [
    "* * *"
   ]
  },
  {
   "cell_type": "markdown",
   "id": "53855ebf",
   "metadata": {},
   "source": [
    "## Mode"
   ]
  },
  {
   "cell_type": "markdown",
   "id": "7f7c474d",
   "metadata": {},
   "source": [
    "#### Command Mode (Press `Esc` to switch to Command Mode)\n",
    "- Add new cell\n",
    "    - Add above: Press `a`\n",
    "    - Add below: Press `b`\n",
    "- Delete the selected cell\n",
    "    - Press `d` `d` 누르기 (Press `d` twice in a row)"
   ]
  },
  {
   "cell_type": "markdown",
   "id": "c7107db8",
   "metadata": {},
   "source": [
    "#### Edit Mode (Press `Enter` to swith to Edit Mode)"
   ]
  },
  {
   "cell_type": "markdown",
   "id": "320d535b",
   "metadata": {},
   "source": [
    "* * *"
   ]
  },
  {
   "cell_type": "markdown",
   "id": "e8a66944",
   "metadata": {},
   "source": [
    "## Press `Shift+Enter` to run the selected cell."
   ]
  },
  {
   "cell_type": "markdown",
   "id": "b894fe68",
   "metadata": {},
   "source": [
    "* * *"
   ]
  },
  {
   "cell_type": "markdown",
   "id": "b03032cc",
   "metadata": {},
   "source": [
    "## Cell type"
   ]
  },
  {
   "cell_type": "markdown",
   "id": "497d58bb",
   "metadata": {},
   "source": [
    "#### Code Cell (Press `Y` to switch to code cell)\n",
    "- Code cell contains executable code."
   ]
  },
  {
   "cell_type": "markdown",
   "id": "007dabf2",
   "metadata": {},
   "source": [
    "#### Markdown Cell (Press `M` to switch to markdown cell)\n",
    "- It is similar to HTML.\n",
    "- To insert a $\\LaTeX$ equation, you need to put the expression between `$`.\n",
    "- Example: $\\frac{1}{2}$, $|\\psi \\rangle$"
   ]
  },
  {
   "cell_type": "markdown",
   "id": "63b39c41",
   "metadata": {},
   "source": [
    "* * *"
   ]
  },
  {
   "cell_type": "code",
   "execution_count": 1,
   "id": "3d5d15d9",
   "metadata": {},
   "outputs": [
    {
     "name": "stdout",
     "output_type": "stream",
     "text": [
      "3\n"
     ]
    }
   ],
   "source": [
    "a = 3\n",
    "print(a)"
   ]
  },
  {
   "cell_type": "code",
   "execution_count": 2,
   "id": "2d775c74-9f84-4aaa-b009-f4384628bd09",
   "metadata": {},
   "outputs": [
    {
     "name": "stdout",
     "output_type": "stream",
     "text": [
      "8\n"
     ]
    }
   ],
   "source": [
    "a=3\n",
    "b=5\n",
    "print(a+b)"
   ]
  }
 ],
 "metadata": {
  "kernelspec": {
   "display_name": "Python 3 (ipykernel)",
   "language": "python",
   "name": "python3"
  },
  "language_info": {
   "codemirror_mode": {
    "name": "ipython",
    "version": 3
   },
   "file_extension": ".py",
   "mimetype": "text/x-python",
   "name": "python",
   "nbconvert_exporter": "python",
   "pygments_lexer": "ipython3",
   "version": "3.12.7"
  }
 },
 "nbformat": 4,
 "nbformat_minor": 5
}
